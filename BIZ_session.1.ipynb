{
 "cells": [
  {
   "cell_type": "code",
   "execution_count": 1,
   "id": "3d3df706",
   "metadata": {},
   "outputs": [
    {
     "name": "stdout",
     "output_type": "stream",
     "text": [
      "454770\n"
     ]
    }
   ],
   "source": [
    "print(123+454647)"
   ]
  },
  {
   "cell_type": "markdown",
   "id": "bf4cfa88",
   "metadata": {},
   "source": [
    "#### Python DATA structures"
   ]
  },
  {
   "cell_type": "markdown",
   "id": "ab890b0d",
   "metadata": {},
   "source": [
    "- list\n",
    "- dictionary\n",
    "- set\n",
    "- tuple"
   ]
  },
  {
   "cell_type": "markdown",
   "id": "3fe4dadd",
   "metadata": {},
   "source": [
    "#### list"
   ]
  },
  {
   "cell_type": "code",
   "execution_count": 20,
   "id": "41cbdbfb",
   "metadata": {},
   "outputs": [],
   "source": [
    "mylist = [10,20,30,50,60,'a','b']"
   ]
  },
  {
   "cell_type": "code",
   "execution_count": 21,
   "id": "db6efc40",
   "metadata": {},
   "outputs": [
    {
     "name": "stdout",
     "output_type": "stream",
     "text": [
      "[10, 20, 30, 50, 60, 'a', 'b']\n"
     ]
    }
   ],
   "source": [
    "print(mylist)"
   ]
  },
  {
   "cell_type": "code",
   "execution_count": 22,
   "id": "a2291f76",
   "metadata": {},
   "outputs": [
    {
     "name": "stdout",
     "output_type": "stream",
     "text": [
      "['b', 'a', 60, 50, 30, 20, 10]\n"
     ]
    }
   ],
   "source": [
    "print(mylist[::-1])"
   ]
  },
  {
   "cell_type": "code",
   "execution_count": 14,
   "id": "a86e62d6",
   "metadata": {},
   "outputs": [],
   "source": [
    "mylist2 = [3,4,5,8,9,12]"
   ]
  },
  {
   "cell_type": "code",
   "execution_count": 15,
   "id": "722487c3",
   "metadata": {},
   "outputs": [
    {
     "name": "stdout",
     "output_type": "stream",
     "text": [
      "[3, 4, 5, 8, 9, 12]\n"
     ]
    }
   ],
   "source": [
    "print(mylist2)"
   ]
  },
  {
   "cell_type": "code",
   "execution_count": 16,
   "id": "8d5700b8",
   "metadata": {},
   "outputs": [],
   "source": [
    "mylist2.extend([30,90])"
   ]
  },
  {
   "cell_type": "code",
   "execution_count": 17,
   "id": "8a50bf43",
   "metadata": {},
   "outputs": [
    {
     "name": "stdout",
     "output_type": "stream",
     "text": [
      "[3, 4, 5, 8, 9, 12, 30, 90]\n"
     ]
    }
   ],
   "source": [
    "print(mylist2)"
   ]
  },
  {
   "cell_type": "code",
   "execution_count": 18,
   "id": "8b71535b",
   "metadata": {},
   "outputs": [],
   "source": [
    "mylist2.remove(30)"
   ]
  },
  {
   "cell_type": "code",
   "execution_count": 19,
   "id": "c9cec564",
   "metadata": {},
   "outputs": [
    {
     "name": "stdout",
     "output_type": "stream",
     "text": [
      "[3, 4, 5, 8, 9, 12, 90]\n"
     ]
    }
   ],
   "source": [
    "print(mylist2)"
   ]
  },
  {
   "cell_type": "markdown",
   "id": "6334ce33",
   "metadata": {},
   "source": [
    "#### Dictionary"
   ]
  },
  {
   "cell_type": "code",
   "execution_count": 23,
   "id": "b95ba2d8",
   "metadata": {},
   "outputs": [],
   "source": [
    "mydict = {'ali':20,'hasan':-50,'zahra':30}"
   ]
  },
  {
   "cell_type": "code",
   "execution_count": 24,
   "id": "c455455a",
   "metadata": {},
   "outputs": [
    {
     "name": "stdout",
     "output_type": "stream",
     "text": [
      "{'ali': 20, 'hasan': -50, 'zahra': 30}\n"
     ]
    }
   ],
   "source": [
    "print(mydict)"
   ]
  },
  {
   "cell_type": "code",
   "execution_count": 25,
   "id": "6b5bcbc4",
   "metadata": {},
   "outputs": [
    {
     "data": {
      "text/plain": [
       "20"
      ]
     },
     "execution_count": 25,
     "metadata": {},
     "output_type": "execute_result"
    }
   ],
   "source": [
    "mydict['ali']"
   ]
  },
  {
   "cell_type": "code",
   "execution_count": 35,
   "id": "539a58fd",
   "metadata": {},
   "outputs": [],
   "source": [
    "account_names = mydict.keys()\n",
    "account_values = mydict.values()"
   ]
  },
  {
   "cell_type": "code",
   "execution_count": 37,
   "id": "8b200a94",
   "metadata": {},
   "outputs": [
    {
     "name": "stdout",
     "output_type": "stream",
     "text": [
      "0\n"
     ]
    }
   ],
   "source": [
    "print(sum(list(account_values)))"
   ]
  },
  {
   "cell_type": "code",
   "execution_count": null,
   "id": "5ec3c214",
   "metadata": {},
   "outputs": [],
   "source": []
  }
 ],
 "metadata": {
  "kernelspec": {
   "display_name": "Python 3 (ipykernel)",
   "language": "python",
   "name": "python3"
  },
  "language_info": {
   "codemirror_mode": {
    "name": "ipython",
    "version": 3
   },
   "file_extension": ".py",
   "mimetype": "text/x-python",
   "name": "python",
   "nbconvert_exporter": "python",
   "pygments_lexer": "ipython3",
   "version": "3.9.13"
  }
 },
 "nbformat": 4,
 "nbformat_minor": 5
}
